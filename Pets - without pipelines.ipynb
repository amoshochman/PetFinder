{
 "cells": [
  {
   "cell_type": "code",
   "execution_count": 34,
   "metadata": {},
   "outputs": [],
   "source": [
    "import pandas as pd\n",
    "import numpy as np\n",
    "import matplotlib.pyplot as plt\n",
    "import seaborn as sns\n",
    "import warnings\n",
    "\n",
    "from sklearn.model_selection import train_test_split, GridSearchCV, RandomizedSearchCV\n",
    "from sklearn.preprocessing import LabelEncoder, MinMaxScaler, StandardScaler, OneHotEncoder\n",
    "from sklearn.ensemble import RandomForestClassifier, AdaBoostClassifier, GradientBoostingClassifier\n",
    "from sklearn.metrics import confusion_matrix, cohen_kappa_score, mean_absolute_error, mean_squared_error, make_scorer, accuracy_score\n",
    "from sklearn.linear_model import LinearRegression\n",
    "from sklearn.pipeline import make_pipeline\n",
    "from sklearn.tree import DecisionTreeClassifier, DecisionTreeRegressor\n",
    "from sklearn.impute import SimpleImputer\n",
    "from sklearn.compose import ColumnTransformer, make_column_transformer\n",
    "from sklearn.base import BaseEstimator, TransformerMixin\n",
    "from sklearn.neighbors import KNeighborsClassifier\n",
    "from sklearn.svm import SVC, LinearSVC, NuSVC\n",
    "from sklearn.preprocessing import normalize\n",
    "from catboost import CatBoostClassifier, Pool, cv, CatBoostRegressor\n",
    "from glob import glob\n",
    "\n",
    "from itertools import chain\n",
    "from seaborn import heatmap\n",
    "import ntpath, json\n",
    "\n",
    "warnings.simplefilter(action='ignore', category=FutureWarning)"
   ]
  },
  {
   "cell_type": "code",
   "execution_count": 35,
   "metadata": {},
   "outputs": [],
   "source": [
    "class MyPreProcess(BaseEstimator, TransformerMixin):\n",
    "    def __init__(self):\n",
    "        return\n",
    "        \n",
    "    def fit( self, X, y = None  ):\n",
    "        #print(X.columns)\n",
    "        self.biggest_breeds_1 = list(X.Breed1.value_counts(normalize=True)[X.Breed1.value_counts(normalize=True)>0.1].index)\n",
    "        self.biggest_breeds_2 = list(X.Breed2.value_counts(normalize=True)[X.Breed2.value_counts(normalize=True)>0.1].index)\n",
    "        #return self\n",
    "        \n",
    "    def _classify_breed_1(self, breed):\n",
    "        if breed in self.biggest_breeds_1:\n",
    "            return breed\n",
    "        return -1\n",
    "    \n",
    "    def _classify_breed_2(self, breed):\n",
    "        if breed in self.biggest_breeds_2:\n",
    "            return breed\n",
    "        return -1\n",
    "        \n",
    "    def transform(self, X , y = None ):\n",
    "        X_copy = X.copy()\n",
    "        X_copy[\"BigBreed1\"] = X_copy.Breed1.apply(self._classify_breed_1)\n",
    "        X_copy[\"BigBreed2\"] = X_copy.Breed2.apply(self._classify_breed_2)\n",
    "        X_copy[\"IsMixed\"] = X_copy.Breed2.map(lambda x: 0 if x==0 else 1)\n",
    "        X_copy[\"NameLen\"] = X_copy.Name.str.len()\n",
    "        return X_copy"
   ]
  },
  {
   "cell_type": "code",
   "execution_count": 36,
   "metadata": {},
   "outputs": [],
   "source": [
    "def get_pet_id(path):\n",
    "    file_name = ntpath.basename(path)\n",
    "    end = file_name.rfind('.json')\n",
    "    return file_name[:end]"
   ]
  },
  {
   "cell_type": "code",
   "execution_count": 37,
   "metadata": {},
   "outputs": [],
   "source": [
    "import os.path\n",
    "def get_sentiment_df(folder):\n",
    "    df = pd.DataFrame(columns = [\"PetID\", \"SentimentMagnitude\", \"SentimentScore\"])\n",
    "    i=0\n",
    "    pattern = os.path.join(folder, '*.json')\n",
    "    for file_name in glob(pattern):\n",
    "        with open(file_name, encoding=\"utf8\", errors=\"ignore\") as json_file:\n",
    "            data = json.load(json_file)\n",
    "            sentiment = data[\"documentSentiment\"]\n",
    "            df.loc[i] = [get_pet_id(file_name), sentiment[\"magnitude\"], sentiment[\"score\"]]\n",
    "            i+=1\n",
    "    return df"
   ]
  },
  {
   "cell_type": "code",
   "execution_count": 38,
   "metadata": {},
   "outputs": [],
   "source": [
    "train = pd.read_csv(\"train/train.csv\")\n",
    "test = pd.read_csv(\"test/test.csv\")"
   ]
  },
  {
   "cell_type": "code",
   "execution_count": 39,
   "metadata": {},
   "outputs": [],
   "source": [
    "try:\n",
    "    train_sentiment_df = pd.read_csv(\"train_sentiment.csv\")\n",
    "    test_sentiment_df = pd.read_csv(\"test_sentiment.csv\")\n",
    "except IOError:\n",
    "    train_sentiment_df = get_sentiment_df('train_sentiment')\n",
    "    test_sentiment_df = get_sentiment_df('test_sentiment')\n",
    "    train_sentiment_df.to_csv(\"train_sentiment.csv\", index=False)\n",
    "    test_sentiment_df.to_csv(\"test_sentiment.csv\", index=False)"
   ]
  },
  {
   "cell_type": "code",
   "execution_count": 40,
   "metadata": {},
   "outputs": [],
   "source": [
    "train = pd.merge(train, train_sentiment_df, how=\"left\")\n",
    "test = pd.merge(test, test_sentiment_df, how=\"left\")"
   ]
  },
  {
   "cell_type": "code",
   "execution_count": 41,
   "metadata": {},
   "outputs": [],
   "source": [
    "X = train.drop(columns=\"AdoptionSpeed\")\n",
    "y = train.AdoptionSpeed"
   ]
  },
  {
   "cell_type": "code",
   "execution_count": 67,
   "metadata": {},
   "outputs": [],
   "source": [
    "X_train, X_test, y_train, y_test = train_test_split(X, y, random_state=1, stratify=y)"
   ]
  },
  {
   "cell_type": "code",
   "execution_count": 69,
   "metadata": {},
   "outputs": [],
   "source": [
    "cat_features = X_train.select_dtypes(\"object\").columns"
   ]
  },
  {
   "cell_type": "code",
   "execution_count": 70,
   "metadata": {},
   "outputs": [],
   "source": [
    "mpp = MyPreProcess()\n",
    "mpp.fit(X_train)\n",
    "X_train_copy = mpp.transform(X_train).drop(columns=cat_features)\n",
    "X_test_copy = mpp.transform(X_test).drop(columns=cat_features)"
   ]
  },
  {
   "cell_type": "code",
   "execution_count": 71,
   "metadata": {},
   "outputs": [],
   "source": [
    "si = SimpleImputer()\n",
    "si.fit(X_train_copy[[\"SentimentMagnitude\", \"SentimentScore\"]])\n",
    "X_train_copy[[\"SentimentMagnitude\", \"SentimentScore\"]] = si.transform(X_train_copy[[\"SentimentMagnitude\", \"SentimentScore\"]]).round(1)\n",
    "X_test_copy[[\"SentimentMagnitude\", \"SentimentScore\"]] = si.transform(X_test_copy[[\"SentimentMagnitude\", \"SentimentScore\"]]).round(1)"
   ]
  },
  {
   "cell_type": "code",
   "execution_count": 72,
   "metadata": {},
   "outputs": [],
   "source": [
    "X_train_copy.fillna(0, inplace=True)\n",
    "X_test_copy.fillna(0, inplace=True)"
   ]
  },
  {
   "cell_type": "code",
   "execution_count": 73,
   "metadata": {},
   "outputs": [],
   "source": [
    "gbc = GradientBoostingClassifier()"
   ]
  },
  {
   "cell_type": "code",
   "execution_count": 74,
   "metadata": {
    "scrolled": true
   },
   "outputs": [],
   "source": [
    "_ = gbc.fit(X_train_copy, y_train)"
   ]
  },
  {
   "cell_type": "code",
   "execution_count": 75,
   "metadata": {},
   "outputs": [],
   "source": [
    "predictions = gbc.predict(X_test_copy)"
   ]
  },
  {
   "cell_type": "code",
   "execution_count": 87,
   "metadata": {},
   "outputs": [],
   "source": [
    "new_columns = ['SentimentMagnitude', 'SentimentScore', 'BigBreed1', 'BigBreed2', 'IsMixed', 'NameLen']"
   ]
  },
  {
   "cell_type": "code",
   "execution_count": 102,
   "metadata": {},
   "outputs": [],
   "source": [
    "new_features_df = X_train_copy.append(X_test_copy).sort_index()[new_columns]"
   ]
  },
  {
   "cell_type": "code",
   "execution_count": 104,
   "metadata": {},
   "outputs": [],
   "source": [
    "new_features_df[\"PetID\"] = train[\"PetID\"]"
   ]
  },
  {
   "cell_type": "code",
   "execution_count": 109,
   "metadata": {},
   "outputs": [],
   "source": [
    "new_features_df.to_csv(\"new_features.csv\", index=False)"
   ]
  },
  {
   "cell_type": "code",
   "execution_count": null,
   "metadata": {},
   "outputs": [],
   "source": []
  }
 ],
 "metadata": {
  "kernelspec": {
   "display_name": "Python 3",
   "language": "python",
   "name": "python3"
  },
  "language_info": {
   "codemirror_mode": {
    "name": "ipython",
    "version": 3
   },
   "file_extension": ".py",
   "mimetype": "text/x-python",
   "name": "python",
   "nbconvert_exporter": "python",
   "pygments_lexer": "ipython3",
   "version": "3.6.5"
  }
 },
 "nbformat": 4,
 "nbformat_minor": 2
}
